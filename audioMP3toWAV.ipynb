{
 "cells": [
  {
   "cell_type": "markdown",
   "metadata": {
    "toc": true
   },
   "source": [
    "<h1>Table of Contents<span class=\"tocSkip\"></span></h1>\n",
    "<div class=\"toc\"><ul class=\"toc-item\"><li><span><a href=\"#file-conversion\" data-toc-modified-id=\"file-conversion-1\"><span class=\"toc-item-num\">1&nbsp;&nbsp;</span>file conversion</a></span></li><li><span><a href=\"#convert-mp3-files-to-wav-format\" data-toc-modified-id=\"convert-mp3-files-to-wav-format-2\"><span class=\"toc-item-num\">2&nbsp;&nbsp;</span>convert mp3 files to wav format</a></span></li><li><span><a href=\"#remove-mp3-files-to-conserve-space\" data-toc-modified-id=\"remove-mp3-files-to-conserve-space-3\"><span class=\"toc-item-num\">3&nbsp;&nbsp;</span>remove mp3 files to conserve space</a></span></li><li><span><a href=\"#audio-split-on-silence\" data-toc-modified-id=\"audio-split-on-silence-4\"><span class=\"toc-item-num\">4&nbsp;&nbsp;</span>audio split on silence</a></span></li></ul></div>"
   ]
  },
  {
   "cell_type": "code",
   "execution_count": 2,
   "metadata": {},
   "outputs": [],
   "source": [
    "# import packages for conversion\n",
    "import os\n",
    "from os import listdir\n",
    "from os.path import isfile, join\n",
    "os.environ['LIBROSA_CACHE_DIR'] = '/tmp/librosa_cache'\n",
    "import librosa\n",
    "import numpy as np\n",
    "from tqdm import tqdm\n",
    "from pathlib import Path\n",
    "from pydub import AudioSegment\n",
    "from pydub.silence import split_on_silence\n",
    "from pydub.utils import make_chunks\n",
    "import ffmpeg\n",
    "import pandas as pd\n",
    "import re\n",
    "from pydub.utils import which\n",
    "import librosa \n",
    "import soundfile as sf\n",
    "AudioSegment.converter = which(\"ffmpeg\")"
   ]
  },
  {
   "cell_type": "code",
   "execution_count": 3,
   "metadata": {},
   "outputs": [],
   "source": [
    "# define input(data) and output paths \n",
    "data = Path(\"\\\\train_audio\")\n",
    "output = (r\"\\\\output\")"
   ]
  },
  {
   "cell_type": "code",
   "execution_count": 6,
   "metadata": {},
   "outputs": [],
   "source": [
    "# create target folders for output identical to input folder structure\n",
    "for directory in Path(data).iterdir():\n",
    "    ebird_code = directory.name\n",
    "    os.makedirs(f'{output}/{ebird_code}')"
   ]
  },
  {
   "cell_type": "markdown",
   "metadata": {},
   "source": [
    "# check out some files"
   ]
  },
  {
   "cell_type": "code",
   "execution_count": 18,
   "metadata": {},
   "outputs": [
    {
     "name": "stdout",
     "output_type": "stream",
     "text": [
      "sample_width= 2\n",
      "channel_count= 2\n",
      "duration_in_frames= 36023\n",
      "duration_in_sec= 36.023\n",
      "frame_rate= 44100\n",
      "dbfs= -33.74869741471482\n"
     ]
    }
   ],
   "source": [
    "# get info for file\n",
    "myaudio = AudioSegment.from_file(filesArray[4])\n",
    "channel_count = myaudio.channels    #Get channels\n",
    "sample_width = myaudio.sample_width #Get sample width\n",
    "duration_frames = len(myaudio)\n",
    "duration_in_sec = len(myaudio) / 1000#Length of audio in sec\n",
    "sample_rate = myaudio.frame_rate\n",
    "vol = myaudio.dBFS\n",
    "\n",
    "print( \"sample_width=\",sample_width )\n",
    "print (\"channel_count=\", channel_count)\n",
    "print (\"duration_in_frames=\", duration_frames )\n",
    "print (\"duration_in_sec=\", duration_in_sec )\n",
    "print (\"frame_rate=\", sample_rate)\n",
    "print (\"dbfs=\", vol)\n"
   ]
  },
  {
   "cell_type": "markdown",
   "metadata": {},
   "source": [
    "# define conversion process"
   ]
  },
  {
   "cell_type": "code",
   "execution_count": 13,
   "metadata": {},
   "outputs": [],
   "source": [
    "def audioConvert(path):\n",
    "    # import file \n",
    "        sound = AudioSegment.from_file(path)\n",
    "        # reassign target folder to name for save\n",
    "        name = path.replace('train_audio', 'clipped_audio')\n",
    "        #set all to mono for consistency\n",
    "        sound = sound.set_channels(1)\n",
    "        # set to predetermined framerate\n",
    "        sound = sound.set_frame_rate(32000)\n",
    "        #target\n",
    "        tDb = -22.0\n",
    "        #current\n",
    "        fDb = sound.dBFS\n",
    "        # process change in dBFS\n",
    "        change_in_dBFS = tDb - fDb\n",
    "        sound = sound.apply_gain(change_in_dBFS)\n",
    "        # export to path \n",
    "        sound.export(name.replace(r'mp3', 'wav'), format=\"wav\")"
   ]
  },
  {
   "cell_type": "code",
   "execution_count": 9,
   "metadata": {},
   "outputs": [],
   "source": [
    "# gather all wav audio files\n",
    "files = librosa.util.find_files(data, ext=['mp3']) \n",
    "filesArray = np.asarray(files)"
   ]
  },
  {
   "cell_type": "code",
   "execution_count": 14,
   "metadata": {},
   "outputs": [
    {
     "name": "stderr",
     "output_type": "stream",
     "text": [
      "100%|██████████████████████████████████████████████████████████████████████████| 21375/21375 [1:06:31<00:00,  5.36it/s]\n"
     ]
    }
   ],
   "source": [
    "# apply function to each filepath in array\n",
    "for file in tqdm(files): \n",
    "    audioConvert(file)"
   ]
  },
  {
   "cell_type": "markdown",
   "metadata": {},
   "source": [
    "# OPTIONAL remove mp3 files to conserve space"
   ]
  },
  {
   "cell_type": "code",
   "execution_count": 6,
   "metadata": {},
   "outputs": [],
   "source": [
    "# gather all wav audio files\n",
    "files = librosa.util.find_files(data, ext=['mp3']) \n",
    "filesArray = np.asarray(files)"
   ]
  },
  {
   "cell_type": "code",
   "execution_count": 8,
   "metadata": {},
   "outputs": [],
   "source": [
    "for f in filesArray:\n",
    "    os.remove(f)"
   ]
  },
  {
   "cell_type": "code",
   "execution_count": 39,
   "metadata": {},
   "outputs": [],
   "source": [
    "# or \n",
    "for filename in os.listdir(data):\n",
    "    if filename.endswith('.mp3'):\n",
    "        os.remove(filename)"
   ]
  }
 ],
 "metadata": {
  "kernelspec": {
   "display_name": "Python 3",
   "language": "python",
   "name": "python3"
  },
  "language_info": {
   "codemirror_mode": {
    "name": "ipython",
    "version": 3
   },
   "file_extension": ".py",
   "mimetype": "text/x-python",
   "name": "python",
   "nbconvert_exporter": "python",
   "pygments_lexer": "ipython3",
   "version": "3.8.5"
  },
  "toc": {
   "base_numbering": 1,
   "nav_menu": {},
   "number_sections": true,
   "sideBar": true,
   "skip_h1_title": false,
   "title_cell": "Table of Contents",
   "title_sidebar": "Contents",
   "toc_cell": true,
   "toc_position": {},
   "toc_section_display": true,
   "toc_window_display": false
  }
 },
 "nbformat": 4,
 "nbformat_minor": 2
}
